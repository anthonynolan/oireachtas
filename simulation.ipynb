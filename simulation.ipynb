{
 "cells": [
  {
   "cell_type": "markdown",
   "metadata": {},
   "source": [
    "[Simpy docs](https://simpy.readthedocs.io/en/latest/simpy_intro/process_interaction.html)"
   ]
  },
  {
   "cell_type": "code",
   "execution_count": 1,
   "metadata": {},
   "outputs": [],
   "source": [
    "import simpy"
   ]
  },
  {
   "cell_type": "code",
   "execution_count": 14,
   "metadata": {},
   "outputs": [],
   "source": [
    "class Car:\n",
    "    def __init__(self, env):\n",
    "        self.env = env\n",
    "        self.action = env.process(self.run())\n",
    "\n",
    "    def run(self):\n",
    "        while True:\n",
    "            print(f'parking and charging at {self.env.now}')\n",
    "            charge_duration=5\n",
    "            yield self.env.process(self.charge(charge_duration))\n",
    "\n",
    "            trip_time = 2\n",
    "            print(f'starting driving {env.now}')        \n",
    "            yield self.env.timeout(trip_time)\n",
    "\n",
    "    def charge(self, duration):\n",
    "        yield self.env.timeout(duration)\n"
   ]
  },
  {
   "cell_type": "code",
   "execution_count": 17,
   "metadata": {},
   "outputs": [
    {
     "name": "stdout",
     "output_type": "stream",
     "text": [
      "parking and charging at 0\n",
      "starting driving 5\n",
      "parking and charging at 7\n",
      "starting driving 12\n",
      "parking and charging at 14\n"
     ]
    }
   ],
   "source": [
    "env = simpy.Environment()\n",
    "car = Car(env)\n",
    "env.run(until=15)"
   ]
  }
 ],
 "metadata": {
  "kernelspec": {
   "display_name": ".oir",
   "language": "python",
   "name": ".oir"
  },
  "language_info": {
   "codemirror_mode": {
    "name": "ipython",
    "version": 3
   },
   "file_extension": ".py",
   "mimetype": "text/x-python",
   "name": "python",
   "nbconvert_exporter": "python",
   "pygments_lexer": "ipython3",
   "version": "3.7.5"
  }
 },
 "nbformat": 4,
 "nbformat_minor": 4
}
